{
 "cells": [
  {
   "cell_type": "code",
   "execution_count": 460,
   "metadata": {},
   "outputs": [],
   "source": [
    "from matplotlib import pyplot as plt\n",
    "from matplotlib.ticker import FuncFormatter\n",
    "import csv\n",
    "import pandas as pd\n",
    "import numpy as np\n",
    "import matplotlib.ticker as tick\n",
    "import matplotlib.dates as mdates"
   ]
  },
  {
   "cell_type": "code",
   "execution_count": 462,
   "metadata": {},
   "outputs": [],
   "source": [
    "# Turns large tick values (in the billions, millions and thousands) such as 4500 into 4.5K and \n",
    "# also appropriately turns 4000 into 4K (no zero after the decimal).\n",
    "\n",
    "def reformat_large_tick_values(tick_val, pos):\n",
    "    if tick_val >= 1000000000:\n",
    "        val = round(tick_val/1000000000, 1)\n",
    "        new_tick_format = '{:}B'.format(val)\n",
    "    elif tick_val >= 1000000:\n",
    "        val = round(tick_val/1000000, 1)\n",
    "        new_tick_format = '{:}M'.format(val)\n",
    "    elif tick_val >= 1000:\n",
    "        val = round(tick_val/1000, 1)\n",
    "        new_tick_format = '{:}K'.format(val)\n",
    "    elif tick_val < 1000:\n",
    "        new_tick_format = round(tick_val, 1)\n",
    "    else:\n",
    "        new_tick_format = tick_val\n",
    "\n",
    "    # make new_tick_format into a string value\n",
    "    new_tick_format = str(new_tick_format)\n",
    "    \n",
    "    # code below will keep 4.5M as is but change values such as 4.0M to 4M since that zero after the decimal isn't needed\n",
    "    index_of_decimal = new_tick_format.find(\".\")\n",
    "    \n",
    "    if index_of_decimal != -1:\n",
    "        value_after_decimal = new_tick_format[index_of_decimal+1]\n",
    "        if value_after_decimal == \"0\":\n",
    "            # remove the 0 after the decimal point since it's not needed\n",
    "            new_tick_format = new_tick_format[0:index_of_decimal] + new_tick_format[index_of_decimal+2:]\n",
    "            \n",
    "    return new_tick_format"
   ]
  },
  {
   "cell_type": "code",
   "execution_count": 463,
   "metadata": {},
   "outputs": [],
   "source": [
    "# https://data.gov.sg/dataset/civil-aircraft-arrivals-departures-passengers-and-mail-changi-airport-monthly?view_id=f1000da9-4036-4278-b241-eeec524ca229&resource_id=1a08ce4d-aafc-4fee-afb7-e8f4c3a41d80\n",
    "with open('civil-aircraft-arrivals-departures-and-passengers-changi-airport-monthly.csv') as csvfile:\n",
    "    reader = csv.DictReader(csvfile)\n",
    "    \n",
    "    # Total Annual Passengers\n",
    "    total_passenger_2018 = 0\n",
    "    total_passenger_2019 = 0\n",
    "    total_passenger_2020 = 0\n",
    "    \n",
    "    total_AA_Departure_2018 = 0\n",
    "    total_AA_Departure_2019 = 0\n",
    "    total_AA_Departure_2020 = 0\n",
    "    \n",
    "    # Total Monthly Arrival & departure 2020\n",
    "    total_AA_month_1 = 0\n",
    "    total_AA_month_2 = 0\n",
    "    total_AA_month_3 = 0\n",
    "    total_AA_month_4 = 0\n",
    "    total_AA_month_5 = 0\n",
    "    total_AA_month_6 = 0\n",
    "\n",
    "    \n",
    "     # Monthly total passengers 2020\n",
    "    total_passengers_month_1 = 0\n",
    "    total_passengers_month_2 = 0\n",
    "    total_passengers_month_3 = 0\n",
    "    total_passengers_month_4 = 0\n",
    "    total_passengers_month_5 = 0\n",
    "    total_passengers_month_6 = 0\n",
    "    \n",
    "    for row in reader:\n",
    "#         print(row)\n",
    "        year = int(row['month'][:4]) # String Slicing\n",
    "        \n",
    "        # Total Passengers Annually\n",
    "        if year == 2018 and row['level_1'] == \"Total Passengers\":\n",
    "            total_passenger_2018 += int(row['value'])\n",
    "\n",
    "        if year == 2019 and row['level_1'] == \"Total Passengers\":\n",
    "            total_passenger_2019 += int(row['value'])\n",
    "\n",
    "        if year == 2020 and row['level_1'] == \"Total Passengers\":\n",
    "            total_passenger_2020 += int(row['value'])  \n",
    "            \n",
    "        # Total Aircraft arrivals and departure\n",
    "        if year == 2018 and row['level_1'] == \"Total Aircraft Arrivals And Departures\":\n",
    "            total_AA_Departure_2018 += int(row['value'])\n",
    "\n",
    "        if year == 2019 and row['level_1'] == \"Total Aircraft Arrivals And Departures\":\n",
    "            total_AA_Departure_2019 += int(row['value'])\n",
    "            \n",
    "        if year == 2020 and row['level_1'] == \"Total Aircraft Arrivals And Departures\":\n",
    "            total_AA_Departure_2020 += int(row['value'])\n",
    "            \n",
    "        # Checking for individual months AA for the year 2020\n",
    "        if row[\"month\"] == \"2020-01\" and row[\"level_1\"] == \"Total Aircraft Arrivals And Departures\":\n",
    "            total_AA_month_1 += int(row[\"value\"])\n",
    "            \n",
    "        if row[\"month\"] == \"2020-02\" and row[\"level_1\"] == \"Total Aircraft Arrivals And Departures\":\n",
    "            total_AA_month_2 += int(row[\"value\"])\n",
    "            \n",
    "        if row[\"month\"] == \"2020-03\" and row[\"level_1\"] == \"Total Aircraft Arrivals And Departures\":\n",
    "            total_AA_month_3 += int(row[\"value\"])\n",
    "            \n",
    "        if row[\"month\"] == \"2020-04\" and row[\"level_1\"] == \"Total Aircraft Arrivals And Departures\":\n",
    "            total_AA_month_4 += int(row[\"value\"])\n",
    "            \n",
    "        if row[\"month\"] == \"2020-05\" and row[\"level_1\"] == \"Total Aircraft Arrivals And Departures\":\n",
    "            total_AA_month_5 += int(row[\"value\"])\n",
    "    \n",
    "        if row[\"month\"] == \"2020-06\" and row[\"level_1\"] == \"Total Aircraft Arrivals And Departures\":\n",
    "            total_AA_month_6 += int(row[\"value\"])\n",
    "            \n",
    "         # Checking for individual months total passengers for the year 2020\n",
    "        if row[\"month\"] == \"2020-01\" and row[\"level_1\"] == \"Total Passengers\":\n",
    "            total_passengers_month_1 += int(row[\"value\"])\n",
    "            \n",
    "        if row[\"month\"] == \"2020-02\" and row[\"level_1\"] == \"Total Passengers\":\n",
    "            total_passengers_month_2 += int(row[\"value\"])\n",
    "            \n",
    "        if row[\"month\"] == \"2020-03\" and row[\"level_1\"] == \"Total Passengers\":\n",
    "            total_passengers_month_3 += int(row[\"value\"])\n",
    "            \n",
    "        if row[\"month\"] == \"2020-04\" and row[\"level_1\"] == \"Total Passengers\":\n",
    "            total_passengers_month_4 += int(row[\"value\"])\n",
    "            \n",
    "        if row[\"month\"] == \"2020-05\" and row[\"level_1\"] == \"Total Passengers\":\n",
    "            total_passengers_month_5 += int(row[\"value\"])\n",
    "            \n",
    "        if row[\"month\"] == \"2020-06\" and row[\"level_1\"] == \"Total Passengers\":\n",
    "            total_passengers_month_6 += int(row[\"value\"])\n",
    "            \n"
   ]
  },
  {
   "cell_type": "code",
   "execution_count": 464,
   "metadata": {
    "scrolled": true
   },
   "outputs": [
    {
     "name": "stdout",
     "output_type": "stream",
     "text": [
      "Year 2018 Total Passengers: 65627356, Total Aircraft Arrivals And Departures: 386042\n",
      "Year 2019 Total Passengers: 68282840, Total Aircraft Arrivals And Departures: 382342\n",
      "Year 2020 Total Passengers: 11144558, Total Aircraft Arrivals And Departures: 89005\n"
     ]
    }
   ],
   "source": [
    "print('Year 2018 Total Passengers: ' + str(total_passenger_2018) + ', ' + 'Total Aircraft Arrivals And Departures: ' + str(total_AA_Departure_2018))\n",
    "print('Year 2019 Total Passengers: ' + str(total_passenger_2019) + ', ' + 'Total Aircraft Arrivals And Departures: ' + str(total_AA_Departure_2019))\n",
    "print('Year 2020 Total Passengers: ' + str(total_passenger_2020) + ', ' + 'Total Aircraft Arrivals And Departures: ' + str(total_AA_Departure_2020))\n",
    "\n",
    "year = [2018, 2019, 2020] # x\n",
    "passenger = [total_passenger_2018, total_passenger_2019, total_passenger_2020] # y\n",
    "\n",
    "aa_departure = [total_AA_Departure_2018, total_AA_Departure_2019, total_AA_Departure_2020]"
   ]
  },
  {
   "cell_type": "code",
   "execution_count": 465,
   "metadata": {
    "scrolled": true
   },
   "outputs": [
    {
     "data": {
      "image/png": "[encoded data removed]",
      "text/plain": [
       "<Figure size 432x288 with 1 Axes>"
      ]
     },
     "metadata": {
      "needs_background": "light"
     },
     "output_type": "display_data"
    }
   ],
   "source": [
    "\n",
    "plt.plot(year, passenger, color='blue')\n",
    "plt.xticks(rotation=90)\n",
    "plt.title('Changi Total Passengers Annually')\n",
    "plt.xlabel(\"Years\")\n",
    "plt.ylabel(\"Total Passengers (Million)\")\n",
    "\n",
    "ax = plt.gca()\n",
    "ax.yaxis.set_major_formatter(tick.FuncFormatter(reformat_large_tick_values));\n",
    "\n",
    "\n",
    "plt.show()"
   ]
  },
  {
   "cell_type": "code",
   "execution_count": 466,
   "metadata": {},
   "outputs": [
    {
     "data": {
      "image/png": "[encoded data removed]",
      "text/plain": [
       "<Figure size 432x288 with 1 Axes>"
      ]
     },
     "metadata": {
      "needs_background": "light"
     },
     "output_type": "display_data"
    }
   ],
   "source": [
    "plt.plot(year, aa_departure, color='orange')\n",
    "plt.xticks(rotation=90)\n",
    "plt.title('Total Aircraft Arrivals And Departures Annually')\n",
    "plt.xlabel(\"Years\")\n",
    "plt.ylabel(\"Total Aircraft Arrivals And Departures\")\n",
    "\n",
    "ax = plt.gca()\n",
    "ax.yaxis.set_major_formatter(tick.FuncFormatter(reformat_large_tick_values));\n",
    "\n",
    "plt.show()"
   ]
  },
  {
   "cell_type": "code",
   "execution_count": 467,
   "metadata": {},
   "outputs": [],
   "source": [
    "fields = [\"Unnamed: 0\", \"Unnamed: 1\", \"Unnamed: 2\"]\n",
    "\n",
    "df = pd.read_excel('statistic_id232513_net-profit-of-airlines-worldwide-2006-2021.xlsx' ,sheet_name=\"Data\", usecols=fields, skiprows=4)\n"
   ]
  },
  {
   "cell_type": "code",
   "execution_count": 468,
   "metadata": {},
   "outputs": [
    {
     "data": {
      "image/png": "[encoded data removed]",
      "text/plain": [
       "<Figure size 432x288 with 1 Axes>"
      ]
     },
     "metadata": {
      "needs_background": "light"
     },
     "output_type": "display_data"
    }
   ],
   "source": [
    "month = ['January', \"February\", \"March\", \"April\", \"May\", \"June\"]\n",
    "monthly_AA = [total_AA_month_1, total_AA_month_2, total_AA_month_3, total_AA_month_4, total_AA_month_5, total_AA_month_6]\n",
    "\n",
    "plt.plot(month, monthly_AA)\n",
    "plt.xticks(rotation=90)\n",
    "plt.title('Total Aircraft Arrivals And Departures Monthly for 2020')\n",
    "plt.xlabel(\"Months\")\n",
    "plt.ylabel(\"Total Aircraft Arrivals And Departures\")\n",
    "ax = plt.gca()\n",
    "ax.yaxis.set_major_formatter(tick.FuncFormatter(reformat_large_tick_values));\n",
    "plt.show()"
   ]
  },
  {
   "cell_type": "code",
   "execution_count": 469,
   "metadata": {},
   "outputs": [
    {
     "data": {
      "image/png": "[encoded data removed]",
      "text/plain": [
       "<Figure size 432x288 with 1 Axes>"
      ]
     },
     "metadata": {
      "needs_background": "light"
     },
     "output_type": "display_data"
    }
   ],
   "source": [
    "month = ['January',\"February\", \"March\", \"April\", \"May\", \"June\"]\n",
    "monthly_passengers = [total_passengers_month_1, total_passengers_month_2, total_passengers_month_3, total_passengers_month_4, total_passengers_month_5, total_passengers_month_6]\n",
    "\n",
    "plt.plot(month,monthly_passengers, color='red')\n",
    "\n",
    "plt.xticks(rotation=90)\n",
    "plt.title('Total Passengers monthly for 2020')\n",
    "plt.xlabel(\"Months\")\n",
    "plt.ylabel(\"Total Passengers\")\n",
    "ax = plt.gca()\n",
    "ax.yaxis.set_major_formatter(tick.FuncFormatter(reformat_large_tick_values));\n",
    "plt.show()"
   ]
  },
  {
   "cell_type": "code",
   "execution_count": 470,
   "metadata": {},
   "outputs": [
    {
     "data": {
      "text/html": [
       "<div>\n",
       "<style scoped>\n",
       "    .dataframe tbody tr th:only-of-type {\n",
       "        vertical-align: middle;\n",
       "    }\n",
       "\n",
       "    .dataframe tbody tr th {\n",
       "        vertical-align: top;\n",
       "    }\n",
       "\n",
       "    .dataframe thead th {\n",
       "        text-align: right;\n",
       "    }\n",
       "</style>\n",
       "<table border=\"1\" class=\"dataframe\">\n",
       "  <thead>\n",
       "    <tr style=\"text-align: right;\">\n",
       "      <th></th>\n",
       "      <th>Unnamed: 0</th>\n",
       "      <th>Unnamed: 1</th>\n",
       "      <th>Unnamed: 2</th>\n",
       "    </tr>\n",
       "  </thead>\n",
       "  <tbody>\n",
       "    <tr>\n",
       "      <th>0</th>\n",
       "      <td>NaN</td>\n",
       "      <td>2006</td>\n",
       "      <td>5.0</td>\n",
       "    </tr>\n",
       "    <tr>\n",
       "      <th>1</th>\n",
       "      <td>NaN</td>\n",
       "      <td>2007</td>\n",
       "      <td>14.7</td>\n",
       "    </tr>\n",
       "    <tr>\n",
       "      <th>2</th>\n",
       "      <td>NaN</td>\n",
       "      <td>2008</td>\n",
       "      <td>-26.1</td>\n",
       "    </tr>\n",
       "    <tr>\n",
       "      <th>3</th>\n",
       "      <td>NaN</td>\n",
       "      <td>2009</td>\n",
       "      <td>-4.6</td>\n",
       "    </tr>\n",
       "    <tr>\n",
       "      <th>4</th>\n",
       "      <td>NaN</td>\n",
       "      <td>2010</td>\n",
       "      <td>17.3</td>\n",
       "    </tr>\n",
       "    <tr>\n",
       "      <th>5</th>\n",
       "      <td>NaN</td>\n",
       "      <td>2011</td>\n",
       "      <td>8.3</td>\n",
       "    </tr>\n",
       "    <tr>\n",
       "      <th>6</th>\n",
       "      <td>NaN</td>\n",
       "      <td>2012</td>\n",
       "      <td>9.2</td>\n",
       "    </tr>\n",
       "    <tr>\n",
       "      <th>7</th>\n",
       "      <td>NaN</td>\n",
       "      <td>2013</td>\n",
       "      <td>10.7</td>\n",
       "    </tr>\n",
       "    <tr>\n",
       "      <th>8</th>\n",
       "      <td>NaN</td>\n",
       "      <td>2014</td>\n",
       "      <td>13.8</td>\n",
       "    </tr>\n",
       "    <tr>\n",
       "      <th>9</th>\n",
       "      <td>NaN</td>\n",
       "      <td>2015</td>\n",
       "      <td>36.0</td>\n",
       "    </tr>\n",
       "    <tr>\n",
       "      <th>10</th>\n",
       "      <td>NaN</td>\n",
       "      <td>2016</td>\n",
       "      <td>34.2</td>\n",
       "    </tr>\n",
       "    <tr>\n",
       "      <th>11</th>\n",
       "      <td>NaN</td>\n",
       "      <td>2017</td>\n",
       "      <td>37.6</td>\n",
       "    </tr>\n",
       "    <tr>\n",
       "      <th>12</th>\n",
       "      <td>NaN</td>\n",
       "      <td>2018</td>\n",
       "      <td>27.3</td>\n",
       "    </tr>\n",
       "    <tr>\n",
       "      <th>13</th>\n",
       "      <td>NaN</td>\n",
       "      <td>2019</td>\n",
       "      <td>26.4</td>\n",
       "    </tr>\n",
       "    <tr>\n",
       "      <th>14</th>\n",
       "      <td>NaN</td>\n",
       "      <td>2020 pre-COVID* **</td>\n",
       "      <td>29.3</td>\n",
       "    </tr>\n",
       "    <tr>\n",
       "      <th>15</th>\n",
       "      <td>NaN</td>\n",
       "      <td>2020 post-COVID **</td>\n",
       "      <td>-84.3</td>\n",
       "    </tr>\n",
       "    <tr>\n",
       "      <th>16</th>\n",
       "      <td>NaN</td>\n",
       "      <td>2021**</td>\n",
       "      <td>-15.8</td>\n",
       "    </tr>\n",
       "  </tbody>\n",
       "</table>\n",
       "</div>"
      ],
      "text/plain": [
       "    Unnamed: 0          Unnamed: 1  Unnamed: 2\n",
       "0          NaN                2006         5.0\n",
       "1          NaN                2007        14.7\n",
       "2          NaN                2008       -26.1\n",
       "3          NaN                2009        -4.6\n",
       "4          NaN                2010        17.3\n",
       "5          NaN                2011         8.3\n",
       "6          NaN                2012         9.2\n",
       "7          NaN                2013        10.7\n",
       "8          NaN                2014        13.8\n",
       "9          NaN                2015        36.0\n",
       "10         NaN                2016        34.2\n",
       "11         NaN                2017        37.6\n",
       "12         NaN                2018        27.3\n",
       "13         NaN                2019        26.4\n",
       "14         NaN  2020 pre-COVID* **        29.3\n",
       "15         NaN  2020 post-COVID **       -84.3\n",
       "16         NaN              2021**       -15.8"
      ]
     },
     "execution_count": 470,
     "metadata": {},
     "output_type": "execute_result"
    }
   ],
   "source": [
    "df"
   ]
  },
  {
   "cell_type": "code",
   "execution_count": 471,
   "metadata": {},
   "outputs": [],
   "source": [
    "year = df[\"Unnamed: 1\"]\n",
    "net_profit = df[\"Unnamed: 2\"]"
   ]
  },
  {
   "cell_type": "code",
   "execution_count": 472,
   "metadata": {},
   "outputs": [
    {
     "data": {
      "image/png": "[encoded data removed]",
      "text/plain": [
       "<Figure size 432x288 with 1 Axes>"
      ]
     },
     "metadata": {
      "needs_background": "light"
     },
     "output_type": "display_data"
    }
   ],
   "source": [
    "plt.bar(year, net_profit, color='g')\n",
    "plt.xticks(rotation=90)\n",
    "plt.title('Net profit of commercial airlines worldwide from 2006 to 2021 (in billion U.S. dollars)')\n",
    "plt.xlabel(\"Years\")\n",
    "plt.ylabel(\"Net Profit\")\n",
    "\n",
    "ax = plt.gca()\n",
    "ax.yaxis.set_major_formatter(tick.FuncFormatter(reformat_large_tick_values));\n",
    "\n",
    "plt.show()"
   ]
  }
 ],
 "metadata": {
  "kernelspec": {
   "display_name": "Python 3",
   "language": "python",
   "name": "python3"
  },
  "language_info": {
   "codemirror_mode": {
    "name": "ipython",
    "version": 3
   },
   "file_extension": ".py",
   "mimetype": "text/x-python",
   "name": "python",
   "nbconvert_exporter": "python",
   "pygments_lexer": "ipython3",
   "version": "3.6.8"
  }
 },
 "nbformat": 4,
 "nbformat_minor": 4
}
